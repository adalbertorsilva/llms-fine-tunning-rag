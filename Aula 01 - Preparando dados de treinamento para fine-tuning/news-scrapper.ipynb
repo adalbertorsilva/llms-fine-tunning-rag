{
  "cells": [
    {
      "cell_type": "code",
      "execution_count": 1,
      "metadata": {
        "colab": {
          "base_uri": "https://localhost:8080/"
        },
        "id": "xMijuVjl1_2X",
        "outputId": "7e7e55c4-adf1-4b09-a11f-8bc4ab9cc938"
      },
      "outputs": [
        {
          "output_type": "stream",
          "name": "stdout",
          "text": [
            "Mounted at /content/drive\n"
          ]
        }
      ],
      "source": [
        "#Conexão com o Google Drive\n",
        "\n",
        "from google.colab import drive\n",
        "drive.mount('/content/drive')"
      ]
    },
    {
      "cell_type": "code",
      "execution_count": 2,
      "metadata": {
        "id": "qpUkpvTw2FsX"
      },
      "outputs": [],
      "source": [
        "#Importar bibliotecas\n",
        "import requests\n",
        "from bs4 import BeautifulSoup"
      ]
    },
    {
      "cell_type": "code",
      "execution_count": 9,
      "metadata": {
        "id": "OIOgTXQ-2F47"
      },
      "outputs": [],
      "source": [
        "#Definindo a função que retornará os links\n",
        "\n",
        "def scrape_cnn_links(url):\n",
        "    response = requests.get(url)\n",
        "\n",
        "    # Se a request tiver retorno com sucesso\n",
        "    if response.status_code == 200:\n",
        "        # Parsing do conteúdo da página\n",
        "        soup = BeautifulSoup(response.text, 'html.parser')\n",
        "\n",
        "        valid_links = []\n",
        "\n",
        "        # Encontrar os links de notícias\n",
        "        for a in soup.find_all('a', href=True):\n",
        "            href = a['href']\n",
        "            # Checagem se o link encontrado é um documento HTML\n",
        "            if href.startswith('/') and href.endswith('.html'):\n",
        "                # Concatenar com a URL padrão do site\n",
        "                full_link = f\"https://www.cnn.com{href}\"\n",
        "                valid_links.append(full_link)\n",
        "            else: pass\n",
        "\n",
        "        return valid_links\n",
        "    else:\n",
        "        return f\"Falha ao extrair o conteúdo da notícia: {response.status_code}\"\n"
      ]
    },
    {
      "cell_type": "code",
      "execution_count": 10,
      "metadata": {
        "id": "9VRX_63j2F7u",
        "colab": {
          "base_uri": "https://localhost:8080/"
        },
        "outputId": "50bbc267-aef3-4d2b-adcf-b91cfbc1ed44"
      },
      "outputs": [
        {
          "output_type": "stream",
          "name": "stdout",
          "text": [
            "--- VALID LINKS ---\n",
            "['https://www.cnn.com/2025/02/04/world/aga-khan-ismaili-muslim-obit-intl-latam/index.html', 'https://www.cnn.com/2025/02/04/world/aga-khan-ismaili-muslim-obit-intl-latam/index.html', 'https://www.cnn.com/2025/02/04/world/usaid-us-foreign-aid-freeze-humanitarian-crises-intl/index.html', 'https://www.cnn.com/2025/02/04/europe/orebro-sweden-school-shooting-intl/index.html', 'https://www.cnn.com/2025/02/04/world/trump-ukraine-minerals-military-aid-intl/index.html', 'https://www.cnn.com/2025/02/03/middleeast/israel-gaza-habiba-medical-evacuation-jordan-intl/index.html', 'https://www.cnn.com/2025/02/03/europe/germany-friedrich-merz-immigration-intl-latam/index.html', 'https://www.cnn.com/2025/02/03/world/sheinbaum-trump-tariffs-paused/index.html', 'https://www.cnn.com/2025/02/03/world/sheinbaum-trump-tariffs-paused/index.html', 'https://www.cnn.com/2025/02/03/americas/ecuador-mexico-tariffs-intl-latam/index.html', 'https://www.cnn.com/2025/02/03/africa/rwanda-kigame-troops-dr-congo-intl/index.html', 'https://www.cnn.com/2025/02/03/middleeast/jenin-mayor-israeli-military-operation-intl/index.html', 'https://www.cnn.com/2025/02/03/uk/daniel-khalife-iran-spy-sentenced-intl/index.html', 'https://www.cnn.com/2025/02/03/china/china-tariffs-trump-intl-hnk/index.html', 'https://www.cnn.com/2025/02/02/australia/queensland-townsville-floods-climate-intl-hnk/index.html', 'https://www.cnn.com/2025/02/03/europe/armen-sarkisyan-bomb-death-moscow-intl-latam/index.html', 'https://www.cnn.com/2025/02/03/europe/armen-sarkisyan-bomb-death-moscow-intl-latam/index.html', 'https://www.cnn.com/2025/02/03/europe/catherine-world-cancer-day-photo-latam-intl/index.html', 'https://www.cnn.com/2025/02/02/europe/serbia-protests-novi-sad-belgrade-vucic-intl/index.html', 'https://www.cnn.com/2025/02/02/uk/britain-criminalizes-ai-child-sex-abuse-intl-hnk/index.html', 'https://www.cnn.com/2025/02/02/europe/ukraine-poltava-sudzha-russia-attacks-intl/index.html', 'https://www.cnn.com/2025/02/02/europe/ukraine-russia-frontline-ceasefire-deal-intl/index.html', 'https://www.cnn.com/2025/02/03/middleeast/trump-netanyahu-talks-gaza-ceasefire-intl/index.html', 'https://www.cnn.com/2025/02/03/middleeast/trump-netanyahu-talks-gaza-ceasefire-intl/index.html', 'https://www.cnn.com/2025/02/01/middleeast/gaza-israel-hostages-palestinian-prisoners-intl/index.html', 'https://www.cnn.com/2025/02/01/middleeast/arab-nations-trump-gaza-rejects-intl/index.html', 'https://www.cnn.com/2025/01/31/middleeast/israel-gaza-hostages-saturday-intl/index.html', 'https://www.cnn.com/2025/01/31/middleeast/syria-bashar-al-assad-cousin-arrest-intl/index.html', 'https://www.cnn.com/2025/01/31/middleeast/northern-gaza-return-destruction-intl/index.html', 'https://www.cnn.com/2025/02/03/world/gallery/2025-prayagraj-kumbh-mela-festival/index.html', 'https://www.cnn.com/2025/02/03/world/gallery/2025-prayagraj-kumbh-mela-festival/index.html', 'https://www.cnn.com/2025/01/29/world/gallery/in-pictures-lunar-new-year-celebrations/index.html', 'https://www.cnn.com/2025/01/29/world/gallery/in-pictures-lunar-new-year-celebrations/index.html', 'https://www.cnn.com/2025/01/13/world/gallery/people-we-lost-2025/index.html', 'https://www.cnn.com/2025/01/13/world/gallery/people-we-lost-2025/index.html', 'https://www.cnn.com/2025/01/30/world/gallery/photos-this-week-january-23-january-30/index.html', 'https://www.cnn.com/2025/01/30/world/gallery/photos-this-week-january-23-january-30/index.html', 'https://www.cnn.com/2025/02/04/africa/rebels-ceasefire-dr-congo-intl/index.html', 'https://www.cnn.com/2025/02/04/africa/rebels-ceasefire-dr-congo-intl/index.html', 'https://www.cnn.com/2025/02/03/africa/trump-aid-cut-threat-south-africa-intl/index.html', 'https://www.cnn.com/2025/02/01/africa/sudan-market-attack-war-intl/index.html', 'https://www.cnn.com/world/africa/yemi-alade-interview-grammys-spc/index.html', 'https://www.cnn.com/2025/02/03/americas/el-salvador-migrant-deal-marco-rubio-intl-hnk/index.html', 'https://www.cnn.com/2025/02/03/americas/el-salvador-migrant-deal-marco-rubio-intl-hnk/index.html', 'https://www.cnn.com/2025/02/03/americas/venezuela-us-immigration-asylum-juarez-family-intl-latam/index.html', 'https://www.cnn.com/2025/02/02/americas/panama-china-belt-and-road-initiative-rubio-visits-intl-latam/index.html', 'https://www.cnn.com/2025/02/01/americas/americans-freed-in-venezuela-intl-hnk/index.html', 'https://www.cnn.com/2025/02/03/asia/barbie-hsu-big-s-taiwan-death-intl-hnk/index.html', 'https://www.cnn.com/2025/02/03/asia/barbie-hsu-big-s-taiwan-death-intl-hnk/index.html', 'https://www.cnn.com/2025/02/01/asia/malaysia-gisbh-police-investigation-hnk-intl-dst/index.html', 'https://www.cnn.com/2025/01/31/asia/trump-iron-dome-ballistic-missile-defense-guam-intl-hnk-ml/index.html', 'https://www.cnn.com/2025/01/31/asia/japan-tokyo-sinkhole-swallows-driver-intl-hnk/index.html', 'https://www.cnn.com/travel/uphilling-ski-trend-united-states/index.html', 'https://www.cnn.com/travel/uphilling-ski-trend-united-states/index.html', 'https://www.cnn.com/2025/02/04/travel/santorini-greece-earthquake-evacuation-intl/index.html', 'https://www.cnn.com/travel/candians-boycotting-travel-to-united-states/index.html', 'https://www.cnn.com/2025/02/04/travel/south-korea-airport-kimchi-confiscation-intl-hnk/index.html', 'https://www.cnn.com/2025/02/02/travel/santorini-earthquake-greece-intl/index.html', 'https://www.cnn.com/2025/02/04/style/latex-lace-kasia-kucarska-berlin-fashion-week/index.html', 'https://www.cnn.com/2025/02/04/style/latex-lace-kasia-kucarska-berlin-fashion-week/index.html', 'https://www.cnn.com/2025/02/04/style/hidden-portrait-titian-masterpiece-cyprus-intl-scli/index.html', 'https://www.cnn.com/2025/02/03/style/bianca-censori-nude-dress-grammys-hnk-intl/index.html', 'https://www.cnn.com/2025/02/02/style/red-carpet-looks-grammys/index.html', 'https://www.cnn.com/2025/01/31/style/chanel-armani-highlights-at-paris-couture-week/index.html', 'https://www.cnn.com/2025/02/04/weather/february-winter-storm-forecast-northeast-climate/index.html', 'https://www.cnn.com/2025/02/04/weather/february-winter-storm-forecast-northeast-climate/index.html', 'https://www.cnn.com/2025/02/03/weather/why-arson-fire-climate/index.html', 'https://www.cnn.com/2025/02/02/weather/groundhog-day-shadow-winter-spring-climate/index.html', 'https://www.cnn.com/2025/01/22/weather/winter-storm-south-wednesday-hnk/index.html', 'https://www.cnn.com/2025/01/21/weather/winter-storm-south-tuesday-hnk/index.html', 'https://www.cnn.com/2025/02/04/world/south-africa-ramaphosa-musk-intl/index.html', 'https://www.cnn.com/2025/02/04/world/south-africa-ramaphosa-musk-intl/index.html', 'https://www.cnn.com/world/amanda-pullinger-women-investors-finance-spc/index.html', 'https://www.cnn.com/world/amanda-pullinger-women-investors-finance-spc/index.html', 'https://www.cnn.com/2025/02/03/australia/shark-attack-queensland-bribie-island-intl-hnk/index.html', 'https://www.cnn.com/2025/02/03/australia/shark-attack-queensland-bribie-island-intl-hnk/index.html', 'https://www.cnn.com/2025/01/09/style/dubai-skyscrapers-penthouse-pool-regent/index.html', 'https://www.cnn.com/2025/01/09/style/dubai-skyscrapers-penthouse-pool-regent/index.html', 'https://www.cnn.com/2025/01/08/style/acdc-house-mistakenly-demolished-australia-intl-scli/index.html', 'https://www.cnn.com/2025/01/07/style/uzbekistan-architecture-destination-tashkent/index.html', 'https://www.cnn.com/2025/01/01/style/new-buildings-architecture-2025/index.html', 'https://www.cnn.com/2024/12/16/style/1-undershaft-tower-london-scli-intl-gbr/index.html', 'https://www.cnn.com/2025/02/04/sport/luka-doncic-shocked-lakers-mavericks-trade-spt/index.html', 'https://www.cnn.com/2025/02/04/sport/luka-doncic-shocked-lakers-mavericks-trade-spt/index.html', 'https://www.cnn.com/2025/02/04/sport/tiger-woods-mother-kultida-woods-dead-spt/index.html', 'https://www.cnn.com/2025/02/04/sport/la-galaxy-fan-outreach-wildfires-spt-intl/index.html', 'https://www.cnn.com/2025/02/04/sport/inside-super-bowl-opening-night-spt/index.html', 'https://www.cnn.com/2025/02/04/sport/1984-super-bowl-commercial-spt-intl/index.html', 'https://www.cnn.com/2024/10/25/tech/elon-musk-political-meetings-influence-dg/index.html', 'https://www.cnn.com/2024/10/25/tech/elon-musk-political-meetings-influence-dg/index.html', 'https://www.cnn.com/2024/10/23/business/chatgpt-tricked-commit-crimes/index.html', 'https://www.cnn.com/2024/10/23/business/chatgpt-tricked-commit-crimes/index.html', 'https://www.cnn.com/2024/10/21/tech/x-twitter-terms-of-service/index.html', 'https://www.cnn.com/2024/10/21/tech/x-twitter-terms-of-service/index.html']\n"
          ]
        }
      ],
      "source": [
        "# Definindo a URL padrão\n",
        "url = \"https://edition.cnn.com/world\"\n",
        "\n",
        "# Chama a função de scrap dos dados e salva as URLs em um arquivo\n",
        "links = scrape_cnn_links(url)\n",
        "# with open('CNN_Links.txt', 'w') as file:\n",
        "#     for link in links:\n",
        "#         file.write(link + '\\n')"
      ]
    },
    {
      "cell_type": "code",
      "execution_count": null,
      "metadata": {
        "id": "Eew78btb2F-y"
      },
      "outputs": [],
      "source": []
    },
    {
      "cell_type": "code",
      "execution_count": null,
      "metadata": {
        "id": "TT1XbZ5z2GCc"
      },
      "outputs": [],
      "source": []
    }
  ],
  "metadata": {
    "colab": {
      "provenance": [],
      "toc_visible": true
    },
    "kernelspec": {
      "display_name": "Python 3",
      "name": "python3"
    },
    "language_info": {
      "name": "python"
    }
  },
  "nbformat": 4,
  "nbformat_minor": 0
}