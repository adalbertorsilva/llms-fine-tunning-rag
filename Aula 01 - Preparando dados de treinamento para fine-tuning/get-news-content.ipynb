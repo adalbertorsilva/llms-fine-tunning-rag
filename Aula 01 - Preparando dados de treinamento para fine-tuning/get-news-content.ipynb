{
  "cells": [
    {
      "cell_type": "code",
      "execution_count": 1,
      "metadata": {
        "colab": {
          "base_uri": "https://localhost:8080/"
        },
        "id": "sVEwjMHq8bli",
        "outputId": "30924b00-d396-47dc-e936-92a5893a5925"
      },
      "outputs": [
        {
          "output_type": "stream",
          "name": "stdout",
          "text": [
            "Mounted at /content/drive\n"
          ]
        }
      ],
      "source": [
        "#Conexão com o Google Drive\n",
        "\n",
        "from google.colab import drive\n",
        "drive.mount('/content/drive')"
      ]
    },
    {
      "cell_type": "code",
      "execution_count": 5,
      "metadata": {
        "id": "W5XK4Eg88Nnr"
      },
      "outputs": [],
      "source": [
        "import requests\n",
        "from bs4 import BeautifulSoup\n",
        "import json\n",
        "\n",
        "def get_news_content(links_file):\n",
        "    # Carrega o arquivo com os links e retorna uma lista\n",
        "    with open(links_file, 'r') as file:\n",
        "        links = set(file.readlines())\n",
        "    news_contents = []\n",
        "\n",
        "    for link in links:\n",
        "        link = link.strip()  # Limpa a URL, se necessário\n",
        "        print(link)\n",
        "        response = requests.get(link)\n",
        "        if response.status_code == 200:\n",
        "            soup = BeautifulSoup(response.text, 'html.parser')\n",
        "\n",
        "            # Localiza o elemento que contém o conteúdo do artigo\n",
        "            article_content = soup.find('div', class_='article__content')\n",
        "            if article_content:\n",
        "                paragraphs = article_content.find_all('p', class_='paragraph inline-placeholder')\n",
        "                # Concatena o texto de todos os parágrafos encontrados\n",
        "                content = ' '.join(p.get_text(strip=True) for p in paragraphs)\n",
        "                news_contents.append(content)\n",
        "                print(content)\n",
        "            else:\n",
        "                news_contents.append(\"Conteúdo não encontrado.\")\n",
        "        else:\n",
        "            news_contents.append(f\"Falha ao extrair o conteúdo da notícia: {response.status_code}\")\n",
        "\n",
        "    # Salva o conteúdo em um arquivo JSON\n",
        "    with open('news_contents.json', 'w') as json_file:\n",
        "        json.dump({\"news_content\": news_contents}, json_file)\n"
      ]
    },
    {
      "cell_type": "code",
      "source": [
        "# Chamada da função para extrair os conteúdos\n",
        "get_news_content('/content/drive/MyDrive/FIAP/CNN_Links.txt')"
      ],
      "metadata": {
        "id": "UPXs-Nn0WiQZ"
      },
      "execution_count": null,
      "outputs": []
    }
  ],
  "metadata": {
    "colab": {
      "provenance": []
    },
    "kernelspec": {
      "display_name": "Python 3",
      "name": "python3"
    },
    "language_info": {
      "name": "python"
    }
  },
  "nbformat": 4,
  "nbformat_minor": 0
}