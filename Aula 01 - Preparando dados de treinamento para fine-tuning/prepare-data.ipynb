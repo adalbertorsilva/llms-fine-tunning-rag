{
  "nbformat": 4,
  "nbformat_minor": 0,
  "metadata": {
    "colab": {
      "provenance": []
    },
    "kernelspec": {
      "name": "python3",
      "display_name": "Python 3"
    },
    "language_info": {
      "name": "python"
    }
  },
  "cells": [
    {
      "cell_type": "code",
      "source": [
        "#Conexão com o Google Drive\n",
        "\n",
        "from google.colab import drive\n",
        "drive.mount('/content/drive')"
      ],
      "metadata": {
        "id": "ZRRzGpR0av3o",
        "colab": {
          "base_uri": "https://localhost:8080/"
        },
        "outputId": "e4ae1f27-b9c0-4ff5-dcda-57e1a2ec521c"
      },
      "execution_count": 4,
      "outputs": [
        {
          "output_type": "stream",
          "name": "stdout",
          "text": [
            "Drive already mounted at /content/drive; to attempt to forcibly remount, call drive.mount(\"/content/drive\", force_remount=True).\n"
          ]
        }
      ]
    },
    {
      "cell_type": "code",
      "execution_count": 3,
      "metadata": {
        "id": "VvXIUylQYIEr"
      },
      "outputs": [],
      "source": [
        "import json\n",
        "\n",
        "def process_line_complementary_dataset(item):\n",
        "    #Processa cada linha do arquivo JSON Lines, que contém os campos 'story' e 'summary\n",
        "    return {\n",
        "        \"input\": f\"SUMMARIZE THIS NEWS.\\n[|News|] {item['story']}[|eNews|]\\n\\n[|summary|]{item['summary']}[|esummary|]\"\n",
        "    }\n",
        "\n",
        "def process_news_summaries_file(file_path, processed_data):\n",
        "    #Lê um arquivo JSON do nosso dataset, processa cada notícia para formatar conforme o solicitado e adiciona à lista processed_data\n",
        "    with open(file_path, 'r', encoding='utf-8') as file:\n",
        "        json_data = json.load(file)\n",
        "        news_list = json_data[\"news_summaries\"]\n",
        "\n",
        "        for item in news_list:\n",
        "            story = item[\"story\"]\n",
        "            summary = item[\"summary\"]\n",
        "            formatted_text = f\"SUMMARIZE THIS NEWS.\\n[|News|] {story}[|eNews|]\\n\\n[|summary|]{summary}[|esummary|]\"\n",
        "            processed_data.append({\"input\": formatted_text})\n"
      ]
    },
    {
      "cell_type": "code",
      "source": [
        "\n",
        "# Lista para armazenar todos os dados processados\n",
        "processed_data = []\n",
        "\n",
        "# Processar dados do arquivo JSON Lines do dataset complementar\n",
        "with open(r'/content/drive/MyDrive/FIAP/data.jsonl', 'r', encoding='utf-8') as file:\n",
        "    for line in file:\n",
        "        item = json.loads(line)\n",
        "        processed_data.append(process_line_complementary_dataset(item))\n",
        "\n",
        "# Adicionar dados processados do arquivo JSON regular à mesma lista\n",
        "process_news_summaries_file(r'/content/drive/MyDrive/FIAP/news_summaries.json', processed_data)\n",
        "\n",
        "# Salvar todos os dados processados em um arquivo JSON\n",
        "output_filename = r'/content/drive/MyDrive/FIAP/news_dataset_chat_data.json'\n",
        "with open(output_filename, 'w', encoding='utf-8') as file:\n",
        "    json.dump(processed_data, file, ensure_ascii=False, indent=4)\n",
        "\n",
        "print(f\"Todos os dados reformatados foram salvos em '{output_filename}'.\")\n"
      ],
      "metadata": {
        "id": "9dF4NkQmZqv1",
        "colab": {
          "base_uri": "https://localhost:8080/"
        },
        "outputId": "ec8288c2-674b-4d39-bb28-a5bd3b264fb1"
      },
      "execution_count": 6,
      "outputs": [
        {
          "output_type": "stream",
          "name": "stdout",
          "text": [
            "Todos os dados reformatados foram salvos em '/content/drive/MyDrive/FIAP/news_dataset_chat_data.json'.\n"
          ]
        }
      ]
    }
  ]
}